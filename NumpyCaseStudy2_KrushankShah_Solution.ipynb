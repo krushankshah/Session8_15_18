{
 "cells": [
  {
   "cell_type": "markdown",
   "metadata": {},
   "source": [
    "# This case study consists of 1000 marks and the solution file is expected to be submitted in the upcoming session for evaluation."
   ]
  },
  {
   "cell_type": "code",
   "execution_count": 4,
   "metadata": {},
   "outputs": [],
   "source": [
    "import numpy as np"
   ]
  },
  {
   "cell_type": "markdown",
   "metadata": {},
   "source": [
    "### 1.Create two matrices of 3*3 and perform the arithmatic operations metioned in below \"print\" statements"
   ]
  },
  {
   "cell_type": "code",
   "execution_count": 7,
   "metadata": {},
   "outputs": [
    {
     "name": "stdout",
     "output_type": "stream",
     "text": [
      "\n",
      "1st Matrix of random single-digit numbers\n",
      "----------------------------------------\n",
      " [[0 1 2]\n",
      " [3 4 5]\n",
      " [6 7 8]]\n",
      "\n",
      "2nd Matrix of random single-digit numbers\n",
      "----------------------------------------\n",
      " [[ 9 10 11]\n",
      " [12 13 14]\n",
      " [15 16 17]]\n",
      "\n",
      "Addition\n",
      "------------------\n",
      " [[ 9 11 13]\n",
      " [15 17 19]\n",
      " [21 23 25]]\n",
      "\n",
      "Multiplication\n",
      "------------------\n",
      " [[  0  10  22]\n",
      " [ 36  52  70]\n",
      " [ 90 112 136]]\n",
      "\n",
      "Division\n",
      "------------------\n",
      " [[0.         0.1        0.18181818]\n",
      " [0.25       0.30769231 0.35714286]\n",
      " [0.4        0.4375     0.47058824]]\n",
      "\n",
      "Linear combination: 3*A - 2*B\n",
      "-----------------------------\n",
      " [[-18 -17 -16]\n",
      " [-15 -14 -13]\n",
      " [-12 -11 -10]]\n",
      "\n",
      "Exponentiation, matrix cubed here\n",
      "----------------------------------------\n",
      " [[  0   1   8]\n",
      " [ 27  64 125]\n",
      " [216 343 512]]\n",
      "\n",
      "Exponentiation, mat1 sq-root using pow function\n",
      "-------------------------------------------\n",
      " [[0.         1.         1.41421356]\n",
      " [1.73205081 2.         2.23606798]\n",
      " [2.44948974 2.64575131 2.82842712]]\n"
     ]
    }
   ],
   "source": [
    "mat1 = np.arange(9).reshape(3,3)\n",
    "mat2 = np.arange(9,18).reshape(3,3)\n",
    "print(\"\\n1st Matrix of random single-digit numbers\\n----------------------------------------\\n\",mat1)\n",
    "print(\"\\n2nd Matrix of random single-digit numbers\\n----------------------------------------\\n\",mat2)\n",
    "\n",
    "\n",
    "print(\"\\nAddition\\n------------------\\n\", mat1+mat2)\n",
    "print(\"\\nMultiplication\\n------------------\\n\", mat1*mat2)\n",
    "\n",
    "\n",
    "print(\"\\nDivision\\n------------------\\n\", mat1/mat2)\n",
    "print(\"\\nLinear combination: 3*A - 2*B\\n-----------------------------\\n\", 3*mat1-2*mat2)\n",
    "\n",
    "\n",
    "#print(\"\\nAddition of a scalar (100)\\n-------------------------\\n\", ******)\n",
    "\n",
    "\n",
    "print(\"\\nExponentiation, matrix cubed here\\n----------------------------------------\\n\", mat1**3)\n",
    "print(\"\\nExponentiation, mat1 sq-root using pow function\\n-------------------------------------------\\n\",pow(mat1, 1/2))"
   ]
  },
  {
   "cell_type": "markdown",
   "metadata": {},
   "source": [
    "Some operations, such as += and *=, act in place to modify an existing array rather than create a new one."
   ]
  },
  {
   "cell_type": "markdown",
   "metadata": {},
   "source": [
    "NumPy provides familiar mathematical functions such as sin, cos, and exp. In NumPy, these are called “universal functions”(ufunc). Within NumPy, these functions operate elementwise on an array, producing an array as output."
   ]
  },
  {
   "cell_type": "markdown",
   "metadata": {},
   "source": [
    "### 2.Create two 3 * 3 matrices and perform the following operations as describe in print statement."
   ]
  },
  {
   "cell_type": "code",
   "execution_count": 30,
   "metadata": {
    "scrolled": true
   },
   "outputs": [
    {
     "name": "stdout",
     "output_type": "stream",
     "text": [
      "\n",
      "1st Matrix of random single-digit numbers\n",
      " -------------------------------------------------- \n",
      " [[8 7 1]\n",
      " [8 5 7]\n",
      " [4 1 2]]\n",
      "\n",
      "2nd Matrix of random single-digit numbers\n",
      " -------------------------------------------------- \n",
      " [[20 20 21]\n",
      " [22 21 24]\n",
      " [22 21 16]]\n",
      "\n",
      "Sum of all numbers in 1st matrix\n",
      " -------------------------------------------------- \n",
      " 43\n",
      "\n",
      "Sum of all numbers in columns of 1st matrix\n",
      " -------------------------------------------------- \n",
      " [20 13 10]\n",
      "\n",
      "Sum of all numbers in rows of 1st matrix\n",
      " -------------------------------------------------- \n",
      " [16 20  7]\n",
      "\n",
      "Product of all numbers in rows of 1st matrix\n",
      " -------------------------------------------------- \n",
      " 125440\n",
      "\n",
      "Product of all numbers in columns of 2nd matrix\n",
      " -------------------------------------------------- \n",
      " [9680 8820 8064]\n",
      "\n",
      "Mean of all numbers in 1st matrix\n",
      " -------------------------------------------------- \n",
      " 4.777777777777778\n",
      "\n",
      "Standard deviation of all numbers in 1st matrix\n",
      " -------------------------------------------------- \n",
      " 2.739739556875101\n",
      "\n",
      "Modified matrix of random numbers from 1 to 99\n",
      " -------------------------------------------------- \n",
      " [[23 55 40]\n",
      " [37 45 69]\n",
      " [72 46 52]]\n",
      "\n",
      "Standard deviation of all numbers in the modified matrix, a larger number\n",
      " -------------------------------------------------------------------------------- \n",
      " 14.527963669938803\n",
      "\n",
      "Variance of all numbers in the modified matrix, a larger number\n",
      " -------------------------------------------------------------------------------- \n",
      " 211.06172839506172\n",
      "\n",
      "Median of all numbers in the modified matrix\n",
      " ------------------------------------------------------------ \n",
      " 46.0\n"
     ]
    }
   ],
   "source": [
    "from numpy.random import randint as ri\n",
    "mat1 = np.array(ri(0,9,9)).reshape(3,3)\n",
    "mat2 = np.array(ri(15,25,9)).reshape(3,3)\n",
    "print(\"\\n1st Matrix of random single-digit numbers\\n\",\"-\"*50,\"\\n\",mat1)\n",
    "print(\"\\n2nd Matrix of random single-digit numbers\\n\",\"-\"*50,\"\\n\",mat2)\n",
    "\n",
    "\n",
    "print(\"\\nSum of all numbers in 1st matrix\\n\",\"-\"*50,\"\\n\",np.sum(mat1))\n",
    "print(\"\\nSum of all numbers in columns of 1st matrix\\n\",\"-\"*50,\"\\n\",np.sum(mat1, axis = 0))\n",
    "\n",
    "\n",
    "print(\"\\nSum of all numbers in rows of 1st matrix\\n\",\"-\"*50,\"\\n\",np.sum(mat1, axis =1))\n",
    "print(\"\\nProduct of all numbers in rows of 1st matrix\\n\",\"-\"*50,\"\\n\",np.prod(mat1))\n",
    "\n",
    "\n",
    "print(\"\\nProduct of all numbers in columns of 2nd matrix\\n\",\"-\"*50,\"\\n\",np.prod(mat2, axis = 0))\n",
    "print(\"\\nMean of all numbers in 1st matrix\\n\",\"-\"*50,\"\\n\",np.mean(mat1))\n",
    "\n",
    "\n",
    "print(\"\\nStandard deviation of all numbers in 1st matrix\\n\",\"-\"*50,\"\\n\",np.std(mat1))\n",
    "\n",
    "\n",
    "mat1 = np.array(ri(1, 99, 9)).reshape(3,3)\n",
    "print(\"\\nModified matrix of random numbers from 1 to 99\\n\",\"-\"*50,\"\\n\",mat1)\n",
    "\n",
    "\n",
    "print(\"\\nStandard deviation of all numbers in the modified matrix, a larger number\\n\",\"-\"*80,\"\\n\",np.std(mat1))\n",
    "\n",
    "\n",
    "print(\"\\nVariance of all numbers in the modified matrix, a larger number\\n\",\"-\"*80,\"\\n\",np.var(mat1))\n",
    "\n",
    "\n",
    "print(\"\\nMedian of all numbers in the modified matrix\\n\",\"-\"*60,\"\\n\",np.median(mat1))\n"
   ]
  },
  {
   "cell_type": "markdown",
   "metadata": {},
   "source": [
    "###  3.Create a 3 \\* 3 Matrix and Modify its shape to 9\\*1 matrix."
   ]
  },
  {
   "cell_type": "code",
   "execution_count": 33,
   "metadata": {},
   "outputs": [
    {
     "name": "stdout",
     "output_type": "stream",
     "text": [
      "[[7 1 1]\n",
      " [2 3 0]\n",
      " [0 5 4]]\n",
      "[[7]\n",
      " [1]\n",
      " [1]\n",
      " [2]\n",
      " [3]\n",
      " [0]\n",
      " [0]\n",
      " [5]\n",
      " [4]]\n"
     ]
    }
   ],
   "source": [
    "##Solution\n",
    "x = np.array(ri(0,9,9)).reshape(3,3)\n",
    "print(x)\n",
    "\n",
    "print(x.reshape(9,1))"
   ]
  },
  {
   "cell_type": "markdown",
   "metadata": {},
   "source": [
    "### 4.Sort"
   ]
  },
  {
   "cell_type": "code",
   "execution_count": 42,
   "metadata": {},
   "outputs": [
    {
     "name": "stdout",
     "output_type": "stream",
     "text": [
      "\n",
      "Vector of 10 random integers from 1 to 100\n",
      " -------------------------------------------------- \n",
      " [28  5 82 50 71 96 66 86 27 51]\n",
      "\n",
      "Here is the sorted vector\n",
      " -------------------------------------------------- \n",
      " [ 5 27 28 50 51 66 71 82 86 96]\n"
     ]
    }
   ],
   "source": [
    "A = np.array(ri(1, 100, 10)) # Vector of random interegrs\n",
    "print(\"\\nVector of 10 random integers from 1 to 100\\n\",'-'*50,\"\\n\",A)\n",
    "print(\"\\nHere is the sorted vector\\n\",'-'*50,\"\\n\",np.sort(A))\n"
   ]
  },
  {
   "cell_type": "code",
   "execution_count": 43,
   "metadata": {},
   "outputs": [
    {
     "name": "stdout",
     "output_type": "stream",
     "text": [
      "\n",
      "5x5 Matrix of random integers\n",
      " -------------------------------------------------- \n",
      " [[36 41 11 83 59]\n",
      " [59 36 74 51 44]\n",
      " [50 42 31 74 98]\n",
      " [69 92 80 39 93]\n",
      " [81 62 81 78 13]]\n",
      "\n",
      "Here is the sorted matrix along each row\n",
      " -------------------------------------------------- \n",
      " [[11 36 41 59 83]\n",
      " [36 44 51 59 74]\n",
      " [31 42 50 74 98]\n",
      " [39 69 80 92 93]\n",
      " [13 62 78 81 81]]\n",
      "\n",
      "Here is the sorted matrix along each column\n",
      " -------------------------------------------------- \n",
      " [[36 36 11 39 13]\n",
      " [50 41 31 51 44]\n",
      " [59 42 74 74 59]\n",
      " [69 62 80 78 93]\n",
      " [81 92 81 83 98]]\n"
     ]
    }
   ],
   "source": [
    "M = np.array(ri(1, 100, 25)).reshape(5,5) #  5*5 Matrix of random interegrs\n",
    "print(\"\\n5x5 Matrix of random integers\\n\",'-'*50,\"\\n\",M)\n",
    "print(\"\\nHere is the sorted matrix along each row\\n\",'-'*50,\"\\n\",np.sort(M)) # Default axis =1\n",
    "print(\"\\nHere is the sorted matrix along each column\\n\",'-'*50,\"\\n\",np.sort(M, axis = 0))"
   ]
  },
  {
   "cell_type": "markdown",
   "metadata": {},
   "source": [
    "### 5.Create a,b,c  10 element vectors of random integers and perform the respective operation mentioned in print statement"
   ]
  },
  {
   "cell_type": "code",
   "execution_count": 47,
   "metadata": {},
   "outputs": [
    {
     "name": "stdout",
     "output_type": "stream",
     "text": [
      "a: [11 70 68  2  2 93 33 42 83  4]\n",
      "b: [85 80 35 91 77 92 51  3 69 62]\n",
      "c: [39 32 64 86 21 20 77 87  6 76]\n",
      "Max of a: 93\n",
      "Max of b: 92\n",
      "Max of a location: 5\n",
      "Max of b location: 5\n",
      "Max of c location: 7\n"
     ]
    }
   ],
   "source": [
    "# Fill the following ***** with appropriate solution.\n",
    "a=np.array(ri(0, 100, 10))\n",
    "b=np.array(ri(0, 100, 10))\n",
    "c=np.array(ri(0, 100, 10))\n",
    "\n",
    "print(\"a:\", a)\n",
    "print(\"b:\", b)\n",
    "print(\"c:\", c)\n",
    "\n",
    "print(\"Max of a:\", a.max())\n",
    "print(\"Max of b:\",b.max())\n",
    "\n",
    "\n",
    "print(\"Max of a location:\", a.argmax())\n",
    "print(\"Max of b location:\", b.argmax())\n",
    "print(\"Max of c location:\", c.argmax())\n",
    "\n",
    "#print(\"Max of a:\", a.max())\n",
    "# print(\"Max of b:\", ****)\n",
    "\n",
    "\n",
    "# print(\"Max of a location:\", ******)\n",
    "# print(\"Max of b location:\", ******)\n",
    "# print(\"Max of c location:\", ******)\n",
    "\n"
   ]
  },
  {
   "cell_type": "markdown",
   "metadata": {},
   "source": [
    "## Universal functions\n",
    "\n",
    "6. Create 3*3 matrices of random single-digit numbers.<br/>\n",
    "Apply universal functions on it. (square root,exponetial,log10,Modulo etc.)"
   ]
  },
  {
   "cell_type": "code",
   "execution_count": 51,
   "metadata": {},
   "outputs": [
    {
     "name": "stdout",
     "output_type": "stream",
     "text": [
      "\n",
      "1st Matrix of random single-digit numbers\n",
      "----------------------------------------\n",
      " [[6 8 5]\n",
      " [7 9 2]\n",
      " [2 3 8]]\n",
      "\n",
      "2nd Matrix of random single-digit numbers\n",
      "----------------------------------------\n",
      " [[2 6 5]\n",
      " [5 5 4]\n",
      " [7 7 4]]\n",
      "\n",
      "Sq-root of 1st matrix using np\n",
      "------------------\n",
      " [[2.44948974 2.82842712 2.23606798]\n",
      " [2.64575131 3.         1.41421356]\n",
      " [1.41421356 1.73205081 2.82842712]]\n",
      "\n",
      "Exponential power of 1st matrix using np\n",
      " -------------------------------------------------- \n",
      " [[    36 262144   3125]\n",
      " [ 16807  59049     16]\n",
      " [   128   2187   4096]]\n",
      "\n",
      "10-base logarithm on 1st matrix using np\n",
      " -------------------------------------------------- \n",
      " [[0.77815125 0.90308999 0.69897   ]\n",
      " [0.84509804 0.95424251 0.30103   ]\n",
      " [0.30103    0.47712125 0.90308999]]\n",
      "\n",
      "Modulo reminder using np\n",
      " -------------------------------------------------- \n",
      " [[0 2 0]\n",
      " [2 4 2]\n",
      " [2 3 0]]\n"
     ]
    }
   ],
   "source": [
    "\n",
    "mat1 = np.array(ri(1, 10, 9)).reshape(3,3)\n",
    "mat2 = np.array(ri(1, 10, 9)).reshape(3,3)\n",
    "print(\"\\n1st Matrix of random single-digit numbers\\n----------------------------------------\\n\",mat1)\n",
    "print(\"\\n2nd Matrix of random single-digit numbers\\n----------------------------------------\\n\",mat2)\n",
    "\n",
    "\n",
    "print(\"\\nSq-root of 1st matrix using np\\n------------------\\n\", np.sqrt(mat1))\n",
    "\n",
    "\n",
    "print(\"\\nExponential power of 1st matrix using np\\n\",'-'*50,\"\\n\", np.power(mat1, mat2))\n",
    "\n",
    "\n",
    "print(\"\\n10-base logarithm on 1st matrix using np\\n\",'-'*50,\"\\n\", np.log10(mat1))\n",
    "\n",
    "\n",
    "print(\"\\nModulo reminder using np\\n\",'-'*50,\"\\n\", np.mod(mat1, mat2))\n"
   ]
  },
  {
   "cell_type": "markdown",
   "metadata": {},
   "source": [
    "### 7.Generating matrices from distributions"
   ]
  },
  {
   "cell_type": "code",
   "execution_count": 59,
   "metadata": {},
   "outputs": [
    {
     "name": "stdout",
     "output_type": "stream",
     "text": [
      "Random number generation (from Uniform distribution)\n",
      "[[0.90244606 0.79254113 0.92128078]\n",
      " [0.11347613 0.61047607 0.02735991]]\n",
      "Numbers from Normal distribution with zero mean and standard deviation 1 i.e. standard normal\n",
      "[-0.17385835 -0.41031291 -0.58180634  0.22163499  0.30415655 -1.605558\n",
      "  1.99463479 -0.54591368 -1.42222649 -3.14210663]\n",
      "Random integer vector: [39 65 92 66 68 82 68 11 91 47]\n",
      "\n",
      "Random integer matrix\n",
      "[[82 69  7 58 34]\n",
      " [50 58 41 73 18]]\n",
      "\n",
      "20 samples drawn from a dice throw: [4 6 2 4 4 3 6 3 2 4 3 2 1 6 5 2 5 2 1 1]\n"
     ]
    }
   ],
   "source": [
    "\n",
    "print(\"Random number generation (from Uniform distribution)\")\n",
    "print(np.random.uniform(0,1,6).reshape(2,3)) # 2 by 3 matrix with random numbers ranging from 0 to 1, Note no Tuple is necessary \n",
    "\n",
    "print(\"Numbers from Normal distribution with zero mean and standard deviation 1 i.e. standard normal\")\n",
    "print(np.random.normal(0, 1, 10))\n",
    "\n",
    "print(\"Random integer vector:\",np.random.randint(1,100,10)) #randint (low, high, # of samples to be drawn)\n",
    "print (\"\\nRandom integer matrix\")\n",
    "print(np.random.randint(1, 100, size = (2,5))) #randint (low, high, # of samples to be drawn in a tuple to form a matrix)\n",
    "\n",
    "print(\"\\n20 samples drawn from a dice throw:\",np.random.randint(1, 7, 20)) # 20 samples drawn from a dice throw"
   ]
  },
  {
   "cell_type": "markdown",
   "metadata": {},
   "source": [
    "### 8.Find the nearest value from a given number in an array using NumPy."
   ]
  },
  {
   "cell_type": "code",
   "execution_count": 4,
   "metadata": {},
   "outputs": [
    {
     "name": "stdout",
     "output_type": "stream",
     "text": [
      "9.52490427964033\n"
     ]
    }
   ],
   "source": [
    "#Steps\n",
    "import numpy as np\n",
    "#Create an array of 5 random element from 1 to 12\n",
    "x = np.random.uniform(1, 12, 5)\n",
    "#Suppose find the nearest values of 10 in an array so set value=10\n",
    "value = 10\n",
    "#find the index where difference is minimum and get the element\n",
    "n = x.flat[np.abs(x - value).argmin()]\n",
    "print(n)"
   ]
  },
  {
   "cell_type": "markdown",
   "metadata": {},
   "source": [
    "### 9.Write code using numpy to produce following output\n",
    "[[0 0 0] [0 1 2] [0 2 4]]"
   ]
  },
  {
   "cell_type": "code",
   "execution_count": 42,
   "metadata": {},
   "outputs": [],
   "source": [
    "b = np.arange(9).reshape(3,3)"
   ]
  },
  {
   "cell_type": "code",
   "execution_count": 43,
   "metadata": {},
   "outputs": [
    {
     "name": "stdout",
     "output_type": "stream",
     "text": [
      "[[0 1 2]\n",
      " [3 4 5]\n",
      " [6 7 8]]\n"
     ]
    }
   ],
   "source": [
    "print(b)"
   ]
  },
  {
   "cell_type": "code",
   "execution_count": 31,
   "metadata": {},
   "outputs": [
    {
     "ename": "TypeError",
     "evalue": "hstack() takes 1 positional argument but 2 were given",
     "output_type": "error",
     "traceback": [
      "\u001b[1;31m---------------------------------------------------------------------------\u001b[0m",
      "\u001b[1;31mTypeError\u001b[0m                                 Traceback (most recent call last)",
      "\u001b[1;32m<ipython-input-31-ce769ac7c211>\u001b[0m in \u001b[0;36m<module>\u001b[1;34m\u001b[0m\n\u001b[1;32m----> 1\u001b[1;33m \u001b[0mnp\u001b[0m\u001b[1;33m.\u001b[0m\u001b[0mhstack\u001b[0m\u001b[1;33m(\u001b[0m\u001b[0mnp\u001b[0m\u001b[1;33m.\u001b[0m\u001b[0mzeros\u001b[0m\u001b[1;33m(\u001b[0m\u001b[1;36m3\u001b[0m\u001b[1;33m)\u001b[0m\u001b[1;33m,\u001b[0m \u001b[0mnp\u001b[0m\u001b[1;33m.\u001b[0m\u001b[0marange\u001b[0m\u001b[1;33m(\u001b[0m\u001b[1;36m0\u001b[0m\u001b[1;33m,\u001b[0m \u001b[1;36m3\u001b[0m\u001b[1;33m)\u001b[0m\u001b[1;33m)\u001b[0m\u001b[1;33m\u001b[0m\u001b[1;33m\u001b[0m\u001b[0m\n\u001b[0m",
      "\u001b[1;31mTypeError\u001b[0m: hstack() takes 1 positional argument but 2 were given"
     ]
    }
   ],
   "source": [
    "np.hstack(np.zeros(3), np.arange(0, 3))"
   ]
  },
  {
   "cell_type": "code",
   "execution_count": 32,
   "metadata": {},
   "outputs": [],
   "source": [
    "x = np.zeros(3)"
   ]
  },
  {
   "cell_type": "code",
   "execution_count": 33,
   "metadata": {},
   "outputs": [],
   "source": [
    "y = np.arange(0, 3)"
   ]
  },
  {
   "cell_type": "code",
   "execution_count": 34,
   "metadata": {},
   "outputs": [],
   "source": [
    "z = np.arange(0, 5, 2)"
   ]
  },
  {
   "cell_type": "code",
   "execution_count": 35,
   "metadata": {},
   "outputs": [
    {
     "data": {
      "text/plain": [
       "array([0., 0., 0., 0., 1., 2.])"
      ]
     },
     "execution_count": 35,
     "metadata": {},
     "output_type": "execute_result"
    }
   ],
   "source": [
    "np.hstack((x,y))"
   ]
  },
  {
   "cell_type": "code",
   "execution_count": 44,
   "metadata": {},
   "outputs": [],
   "source": [
    "result = np.array([x, y, z])"
   ]
  },
  {
   "cell_type": "code",
   "execution_count": 45,
   "metadata": {},
   "outputs": [
    {
     "name": "stdout",
     "output_type": "stream",
     "text": [
      "[[0. 0. 0.]\n",
      " [0. 1. 2.]\n",
      " [0. 2. 4.]]\n"
     ]
    }
   ],
   "source": [
    "print(result)"
   ]
  },
  {
   "cell_type": "code",
   "execution_count": 48,
   "metadata": {},
   "outputs": [
    {
     "data": {
      "text/plain": [
       "(3, 3)"
      ]
     },
     "execution_count": 48,
     "metadata": {},
     "output_type": "execute_result"
    }
   ],
   "source": [
    "np.shape(result)"
   ]
  },
  {
   "cell_type": "code",
   "execution_count": 50,
   "metadata": {},
   "outputs": [],
   "source": [
    "q = result.reshape(1, 9)"
   ]
  },
  {
   "cell_type": "code",
   "execution_count": 52,
   "metadata": {},
   "outputs": [
    {
     "name": "stdout",
     "output_type": "stream",
     "text": [
      "[[0. 0. 0. 0. 1. 2. 0. 2. 4.]]\n"
     ]
    }
   ],
   "source": [
    "print(q)"
   ]
  },
  {
   "cell_type": "code",
   "execution_count": null,
   "metadata": {},
   "outputs": [],
   "source": []
  }
 ],
 "metadata": {
  "kernelspec": {
   "display_name": "Python 3",
   "language": "python",
   "name": "python3"
  },
  "language_info": {
   "codemirror_mode": {
    "name": "ipython",
    "version": 3
   },
   "file_extension": ".py",
   "mimetype": "text/x-python",
   "name": "python",
   "nbconvert_exporter": "python",
   "pygments_lexer": "ipython3",
   "version": "3.7.1"
  }
 },
 "nbformat": 4,
 "nbformat_minor": 2
}
